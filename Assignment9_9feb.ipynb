{
 "cells": [
  {
   "cell_type": "markdown",
   "id": "68ac2a7c-4a46-4a47-a4a8-990205c799cf",
   "metadata": {},
   "source": [
    "Q1. Create a vehicle class with an init method having instance variables as name_of_vehicle, max_speed\n",
    "and average_of_vehicle."
   ]
  },
  {
   "cell_type": "code",
   "execution_count": 16,
   "id": "14e7b0a6-1e0b-4ddf-b2d8-b9ed51bf4023",
   "metadata": {},
   "outputs": [],
   "source": [
    "class vehicle:\n",
    "    def __init__(self,name_of_vehicle,max_speed,average_of_vehicle):\n",
    "        self.name_of_vehicle=name_of_vehicle\n",
    "        self.max_speed=max_speed\n",
    "        self.average_of_vehicle=average_of_vehicle\n",
    "        \n",
    "    def return_vehicle_details(self):\n",
    "        return self.name_of_vehicle,self.max_speed,self.average_of_vehicle\n",
    "        "
   ]
  },
  {
   "cell_type": "code",
   "execution_count": 22,
   "id": "e94e29da-8dec-4316-ac19-b1384d3deff8",
   "metadata": {},
   "outputs": [],
   "source": [
    "obj=vehicle(\"Bike\",200,120)"
   ]
  },
  {
   "cell_type": "code",
   "execution_count": 23,
   "id": "a69afd1b-826d-4d94-a8c7-2750607e7329",
   "metadata": {},
   "outputs": [
    {
     "data": {
      "text/plain": [
       "'Bike'"
      ]
     },
     "execution_count": 23,
     "metadata": {},
     "output_type": "execute_result"
    }
   ],
   "source": [
    "obj.name_of_vehicle"
   ]
  },
  {
   "cell_type": "code",
   "execution_count": 24,
   "id": "0ed94233-9d5a-40a3-bb74-8797cc0ac461",
   "metadata": {},
   "outputs": [
    {
     "data": {
      "text/plain": [
       "200"
      ]
     },
     "execution_count": 24,
     "metadata": {},
     "output_type": "execute_result"
    }
   ],
   "source": [
    "obj.max_speed"
   ]
  },
  {
   "cell_type": "code",
   "execution_count": 25,
   "id": "15651846-14de-403c-a90f-cd3804ca01a6",
   "metadata": {},
   "outputs": [
    {
     "data": {
      "text/plain": [
       "('Bike', 200, 120)"
      ]
     },
     "execution_count": 25,
     "metadata": {},
     "output_type": "execute_result"
    }
   ],
   "source": [
    "obj.return_vehicle_details()"
   ]
  },
  {
   "cell_type": "markdown",
   "id": "48876f63-202e-48c2-8fca-287a7431a63d",
   "metadata": {},
   "source": [
    "Q2. Create a child class car from the vehicle class created in Que 1, which will inherit the vehicle class.\n",
    "Create a method named seating_capacity which takes capacity as an argument and returns the name of\n",
    "the vehicle and its seating capacity."
   ]
  },
  {
   "cell_type": "code",
   "execution_count": 32,
   "id": "3fb3954e-335e-4a1c-a5cc-e5a3c22a9276",
   "metadata": {},
   "outputs": [],
   "source": [
    "class car(vehicle):\n",
    "    def seating_capacity(self,capacity):\n",
    "        return f\"{self.name_of_vehicle} has a seating capacity of {capacity}.\"\n",
    "        \n",
    "     "
   ]
  },
  {
   "cell_type": "code",
   "execution_count": 33,
   "id": "65ef2a0d-6be0-4b57-9a53-e7af653e9b57",
   "metadata": {},
   "outputs": [],
   "source": [
    "obj=car(\"Bike\",200,120)"
   ]
  },
  {
   "cell_type": "code",
   "execution_count": 34,
   "id": "06f5c6b9-b4b6-49cd-b6e3-6a67bbf86ff0",
   "metadata": {},
   "outputs": [
    {
     "data": {
      "text/plain": [
       "'Bike has a seating capacity of 3.'"
      ]
     },
     "execution_count": 34,
     "metadata": {},
     "output_type": "execute_result"
    }
   ],
   "source": [
    "obj.seating_capacity(3)"
   ]
  },
  {
   "cell_type": "markdown",
   "id": "df237433-d3fb-41dd-98d3-533763745c9d",
   "metadata": {},
   "source": [
    "Q3. What is multiple inheritance? Write a python code to demonstrate multiple inheritance."
   ]
  },
  {
   "cell_type": "markdown",
   "id": "362091fe-3b40-4342-9e79-b4a28720677c",
   "metadata": {},
   "source": [
    "#### Multiple inheritance is a feature in object-oriented programming languages, including Python, that allows a class to inherit attributes and methods from multiple parent classes. In multiple inheritance, a class can inherit from more than one superclass, combining their features and functionalities.\n",
    "\n",
    "#### Above example code demonstrates multiple inheritance in Python:"
   ]
  },
  {
   "cell_type": "code",
   "execution_count": 41,
   "id": "cd4cf3ed-e30f-43bc-9906-ca990fe3e4c1",
   "metadata": {},
   "outputs": [],
   "source": [
    "class flower1:\n",
    "    def test_flower1(self):\n",
    "        print(\"This is a Lotus.\")"
   ]
  },
  {
   "cell_type": "code",
   "execution_count": 42,
   "id": "533fef79-7bf6-470b-a2e4-6193379e9a64",
   "metadata": {},
   "outputs": [],
   "source": [
    "class flower2:\n",
    "    def test_flower2(self):\n",
    "        print(\"This is a Rose.\")"
   ]
  },
  {
   "cell_type": "code",
   "execution_count": 43,
   "id": "caab3de6-d77f-4d21-ad72-51fd42b3acc0",
   "metadata": {},
   "outputs": [],
   "source": [
    "class flower3(flower1,flower2):\n",
    "    pass"
   ]
  },
  {
   "cell_type": "code",
   "execution_count": 44,
   "id": "8b5e546e-f040-45d8-ad80-ddf590572837",
   "metadata": {},
   "outputs": [],
   "source": [
    "obj_name=flower3()"
   ]
  },
  {
   "cell_type": "code",
   "execution_count": 45,
   "id": "c7921a07-c0a0-46cd-a6bc-f76472b50c08",
   "metadata": {},
   "outputs": [
    {
     "name": "stdout",
     "output_type": "stream",
     "text": [
      "This is a Lotus.\n"
     ]
    }
   ],
   "source": [
    "obj_name.test_flower1()"
   ]
  },
  {
   "cell_type": "code",
   "execution_count": 46,
   "id": "1e482020-2c42-43d1-9752-cee4211a2f70",
   "metadata": {},
   "outputs": [
    {
     "name": "stdout",
     "output_type": "stream",
     "text": [
      "This is a Rose.\n"
     ]
    }
   ],
   "source": [
    "obj_name.test_flower2()"
   ]
  },
  {
   "cell_type": "markdown",
   "id": "8a87e550-567d-40fb-a0fe-6d87b739a4ba",
   "metadata": {},
   "source": [
    "Q4. What are getter and setter in python? Create a class and create a getter and a setter method in this\n",
    "class."
   ]
  },
  {
   "cell_type": "markdown",
   "id": "a76a4e6a-c62b-4046-9235-57af18f02ce7",
   "metadata": {},
   "source": [
    "#### The  getter and setter are methods that allow us to access and modify the attributes of a class. They provide a way to encapsulate data and control its access. Getters retrieve the value of an attribute, while setters modify the value of an attribute.\n",
    "\n",
    "#### e.g "
   ]
  },
  {
   "cell_type": "code",
   "execution_count": 14,
   "id": "f2a86393-00de-47c4-a871-b3ae7e1af512",
   "metadata": {},
   "outputs": [],
   "source": [
    "class person:\n",
    "    def __init__(self):\n",
    "        self.name=\" \"\n",
    "        \n",
    "    def set_name(self,name):\n",
    "        self.name=name\n",
    "        \n",
    "    def get_name(self):\n",
    "        return self.name"
   ]
  },
  {
   "cell_type": "code",
   "execution_count": 15,
   "id": "696981e3-30a8-43fe-a778-e43fef70010a",
   "metadata": {},
   "outputs": [],
   "source": [
    "obj=person()"
   ]
  },
  {
   "cell_type": "code",
   "execution_count": 18,
   "id": "5e7589a5-bf24-4d90-b5cf-eccec183fb8e",
   "metadata": {},
   "outputs": [],
   "source": [
    "### setter method\n",
    "obj.set_name(\"prajakta\")"
   ]
  },
  {
   "cell_type": "code",
   "execution_count": 19,
   "id": "f4f4cbd7-9315-4ae3-9c06-b263555bc15e",
   "metadata": {},
   "outputs": [
    {
     "data": {
      "text/plain": [
       "'prajakta'"
      ]
     },
     "execution_count": 19,
     "metadata": {},
     "output_type": "execute_result"
    }
   ],
   "source": [
    "### getter method\n",
    "obj.get_name()"
   ]
  },
  {
   "cell_type": "markdown",
   "id": "62e49d98-6e09-44c7-8a01-02d8d3c63dbd",
   "metadata": {},
   "source": [
    "Q5. What is method overriding in python? Write a python code to demonstrate method overriding."
   ]
  },
  {
   "cell_type": "markdown",
   "id": "38e89eb0-b078-4ce0-9789-c3fa9e3f25c4",
   "metadata": {},
   "source": [
    "#### Method overriding in Python is a feature that allows a subclass to provide a different implementation of a method that is already defined in its superclass. When a subclass defines a method with the same name as a method in its superclass, the subclass method overrides the superclass method.\n",
    "\n",
    "#### e.g "
   ]
  },
  {
   "cell_type": "code",
   "execution_count": 34,
   "id": "f29e4e99-14f9-4086-8d6d-137ff894e586",
   "metadata": {},
   "outputs": [],
   "source": [
    "class laptop:\n",
    "    def test_laptop(self):\n",
    "        print(\"This is my laptop.\")"
   ]
  },
  {
   "cell_type": "code",
   "execution_count": 35,
   "id": "188ee46b-b2fd-4a36-989f-e2a3ca6372f4",
   "metadata": {},
   "outputs": [],
   "source": [
    "class hp(laptop):\n",
    "    def test_laptop(self):\n",
    "         print(\"This is my first laptop.\")"
   ]
  },
  {
   "cell_type": "code",
   "execution_count": 36,
   "id": "3d80e34a-a5fd-4e18-9b81-58775747b40d",
   "metadata": {},
   "outputs": [],
   "source": [
    "class dell(laptop):\n",
    "    def test_laptop(self):\n",
    "         print(\"This is my second laptop.\")"
   ]
  },
  {
   "cell_type": "code",
   "execution_count": 37,
   "id": "0ca05b25-8609-4e72-9ad8-bdc7f5448de1",
   "metadata": {},
   "outputs": [],
   "source": [
    "hp=hp()"
   ]
  },
  {
   "cell_type": "code",
   "execution_count": 38,
   "id": "2033902c-9835-4c48-8eec-e18299e4611b",
   "metadata": {},
   "outputs": [],
   "source": [
    "dell=dell()"
   ]
  },
  {
   "cell_type": "code",
   "execution_count": 39,
   "id": "4af716ca-5afd-4ef2-b870-4522f50e9f7f",
   "metadata": {},
   "outputs": [
    {
     "name": "stdout",
     "output_type": "stream",
     "text": [
      "This is my first laptop.\n"
     ]
    }
   ],
   "source": [
    "hp.test_laptop() "
   ]
  },
  {
   "cell_type": "code",
   "execution_count": 40,
   "id": "04e3fb85-405e-4fea-b665-37579bf15d86",
   "metadata": {},
   "outputs": [
    {
     "name": "stdout",
     "output_type": "stream",
     "text": [
      "This is my second laptop.\n"
     ]
    }
   ],
   "source": [
    "dell.test_laptop() "
   ]
  },
  {
   "cell_type": "code",
   "execution_count": null,
   "id": "a0f9491e-d889-40bd-a852-f31bd87294db",
   "metadata": {},
   "outputs": [],
   "source": []
  }
 ],
 "metadata": {
  "kernelspec": {
   "display_name": "Python 3 (ipykernel)",
   "language": "python",
   "name": "python3"
  },
  "language_info": {
   "codemirror_mode": {
    "name": "ipython",
    "version": 3
   },
   "file_extension": ".py",
   "mimetype": "text/x-python",
   "name": "python",
   "nbconvert_exporter": "python",
   "pygments_lexer": "ipython3",
   "version": "3.10.8"
  }
 },
 "nbformat": 4,
 "nbformat_minor": 5
}
