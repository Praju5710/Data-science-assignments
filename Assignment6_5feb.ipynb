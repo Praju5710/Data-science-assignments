{
 "cells": [
  {
   "cell_type": "markdown",
   "id": "495ecf38-e93a-4cf5-b83e-50941af99d58",
   "metadata": {},
   "source": [
    "Q1. Explain Class and Object with respect to Object-Oriented Programming. Give a suitable example."
   ]
  },
  {
   "cell_type": "markdown",
   "id": "768270cf-0c2b-4586-85de-92698cf7b439",
   "metadata": {},
   "source": [
    "#### In object-oriented programming (OOP), a class is a blueprint or a template that defines the structure and behavior of objects. It acts as a blueprint for creating objects of a particular type. A class encapsulates data (attributes) and behavior (methods) that are common to all objects of that class.\n",
    "\n",
    "#### An object, is an instance of a class. It is a concrete entity that is created based on the class definition. Objects have their own unique state and behavior, which are determined by the class they belong to. Each object has its own set of attributes (data) and can perform operations (methods) defined in the class."
   ]
  },
  {
   "cell_type": "code",
   "execution_count": 34,
   "id": "a6919628-fab9-417e-865a-431e2be430ca",
   "metadata": {},
   "outputs": [],
   "source": [
    "## e.g \n",
    "class car:\n",
    "    def __init__(self,brand,model,color):\n",
    "        self.brand=brand\n",
    "        self.model=model\n",
    "        self.color=color\n",
    "      \n",
    "    def start_engine(self):\n",
    "        print(f\"The {self.brand} {self.model}'s engine has started.\")\n",
    "        \n",
    "    def stop_engine(self):\n",
    "        print(f\"The {self.brand} {self.model}'s engine has stopped.\")\n",
    "            \n",
    "        "
   ]
  },
  {
   "cell_type": "code",
   "execution_count": 6,
   "id": "79bf6576-6156-4976-8dec-5ee581a74537",
   "metadata": {},
   "outputs": [],
   "source": [
    "car1=car(\"Toyota\",\"Camry\",\"Red\")\n",
    "car2=car(\"Honda\",\"Civic\",\"Blue\")        "
   ]
  },
  {
   "cell_type": "code",
   "execution_count": 7,
   "id": "2107b9c3-301d-4d40-bb62-5efc795c651f",
   "metadata": {},
   "outputs": [
    {
     "name": "stdout",
     "output_type": "stream",
     "text": [
      "The Toyota Camry's engine has started.\n"
     ]
    }
   ],
   "source": [
    "car1.start_engine()"
   ]
  },
  {
   "cell_type": "code",
   "execution_count": 8,
   "id": "bcce3af2-1763-4331-a46c-847b912dcab1",
   "metadata": {},
   "outputs": [
    {
     "name": "stdout",
     "output_type": "stream",
     "text": [
      "The Honda Civic's engine has stopped.\n"
     ]
    }
   ],
   "source": [
    "car2.stop_engine()"
   ]
  },
  {
   "cell_type": "markdown",
   "id": "95fe246e-d17f-4280-b0c1-ec80dad607f4",
   "metadata": {},
   "source": [
    "Q2. Name the four pillars of OOPs."
   ]
  },
  {
   "cell_type": "markdown",
   "id": "0352de82-3737-4dd2-bd96-4f8840a08079",
   "metadata": {},
   "source": [
    "#### The four pillars of object-oriented programming (OOP) are:\n",
    "\n",
    "#### 1) Encapsulation: Encapsulation is the practice of bundling data and methods (functions) that operate on that data within a single unit called a class. It helps in achieving data hiding and abstraction. The class defines the interface through which the outside world can interact with the data and methods, while the internal implementation details are hidden.\n",
    "\n",
    "#### 2) Inheritance: Inheritance is a mechanism that allows a class to inherit the properties and behaviors of another class, known as the parent or base class. It enables code reuse and promotes hierarchical organization of classes. The derived class inherits the attributes and methods of the base class and can extend or modify them as needed.\n",
    "\n",
    "#### 3) Polymorphism: Polymorphism allows objects of different classes to be treated as objects of a common superclass. It enables the same interface (method or function) to be used for objects of different classes, providing flexibility and extensibility. Polymorphism is typically achieved through method overriding and method overloading.\n",
    "\n",
    "#### 4) Abstraction: Abstraction is the process of simplifying complex systems by representing essential features while hiding unnecessary details. It focuses on defining the essential characteristics and behaviors of an object or a system, without specifying the implementation details. Abstraction helps in managing complexity, promoting modularity, and enhancing code reusability."
   ]
  },
  {
   "cell_type": "markdown",
   "id": "00b11a8b-e4e2-4ee8-b710-e580325819b8",
   "metadata": {},
   "source": [
    "Q3. Explain why the __init__() function is used. Give a suitable example."
   ]
  },
  {
   "cell_type": "markdown",
   "id": "e0eadca5-f2e7-485e-a8ba-22f84ad4ae84",
   "metadata": {},
   "source": [
    "#### The __init__() function is a special method in Python that is automatically called when an object is created from a class. It is also known as the constructor method. The primary purpose of the __init__() method is to initialize the attributes (data members) of the object and perform any other setup or initialization tasks that are required before the object can be used."
   ]
  },
  {
   "cell_type": "code",
   "execution_count": 33,
   "id": "d367257f-2114-47ea-9fb5-d3effbe3278e",
   "metadata": {},
   "outputs": [],
   "source": [
    "## e.g\n",
    "class person:\n",
    "    def __init__(self,name,age,phone_no):\n",
    "        self.name=name\n",
    "        self.age=age\n",
    "        self.phone_no=phone_no\n",
    "        \n",
    "    def return_details(self):   \n",
    "        return self.name,self.age,self.phone_no"
   ]
  },
  {
   "cell_type": "code",
   "execution_count": 10,
   "id": "6f372afc-6117-4abd-8607-9d34715b5c37",
   "metadata": {},
   "outputs": [],
   "source": [
    "person1=person(\"rohan\",22,5264893)"
   ]
  },
  {
   "cell_type": "code",
   "execution_count": 11,
   "id": "3e6d1809-c3cc-4d24-923f-423582135585",
   "metadata": {},
   "outputs": [
    {
     "data": {
      "text/plain": [
       "('rohan', 22, 5264893)"
      ]
     },
     "execution_count": 11,
     "metadata": {},
     "output_type": "execute_result"
    }
   ],
   "source": [
    "person1.return_details()"
   ]
  },
  {
   "cell_type": "code",
   "execution_count": 12,
   "id": "19c9f539-6987-4510-b79b-a6c8ad28517a",
   "metadata": {},
   "outputs": [
    {
     "data": {
      "text/plain": [
       "22"
      ]
     },
     "execution_count": 12,
     "metadata": {},
     "output_type": "execute_result"
    }
   ],
   "source": [
    "person1.age"
   ]
  },
  {
   "cell_type": "markdown",
   "id": "37de8937-fffd-408f-80bb-99d60b6caad1",
   "metadata": {},
   "source": [
    "Q4. Why self is used in OOPs?"
   ]
  },
  {
   "cell_type": "markdown",
   "id": "0eea41b5-328a-4119-8be4-b4fb56e4645a",
   "metadata": {},
   "source": [
    "#### In object-oriented programming (OOP), the self parameter is used to refer to the instance of a class (object) within the class methods. It is a convention in Python to use the name self as the first parameter in method definitions, although any other name can be used.\n",
    "\n",
    "#### The primary purpose of the self parameter is to access and manipulate the attributes (data members) and methods of the object within the class.\n",
    "\n",
    "#### A few reasons why self is used in OOP:\n",
    "#### 1) Accessing Object Attributes : The self parameter provides a way to access the object's attributes within the class methods. It allows methods to retrieve or modify the object's state.\n",
    "\n",
    "#### 2) Object scope : The self parameter ensures that the methods of a class have access to the object's attributes and methods throughout its scope. It helps maintain the context and integrity of the object within the class."
   ]
  },
  {
   "cell_type": "markdown",
   "id": "119ecd62-eb51-4a1f-bf8b-b640a1135722",
   "metadata": {},
   "source": [
    "Q5. What is inheritance? Give an example for each type of inheritance."
   ]
  },
  {
   "cell_type": "markdown",
   "id": "a4102d9e-4f6f-499e-83ca-39c73af4f466",
   "metadata": {},
   "source": [
    "#### Inheritance is a fundamental concept in object-oriented programming (OOP) that allows a class to inherit attributes and methods from another class. The class from which the inheritance is derived is called the base class, parent class, or superclass, and the class that inherits the attributes and methods is called the derived class, child class, or subclass. Inheritance promotes code reuse, modularity, and the hierarchical organization of classes.\n",
    "\n",
    "#### There are different types of inheritance in Python:"
   ]
  },
  {
   "cell_type": "markdown",
   "id": "cf96855d-daae-418a-86ad-3e2a75dad981",
   "metadata": {},
   "source": [
    "#### 1) Single Inheritance: Single inheritance occurs when a class inherits from only one base class. The derived class inherits all the attributes and methods of the base class."
   ]
  },
  {
   "cell_type": "code",
   "execution_count": 14,
   "id": "52f88d64-1b8e-4147-aed6-8c71f6f8503a",
   "metadata": {},
   "outputs": [],
   "source": [
    "class animal:\n",
    "    def __init__(self,name):\n",
    "        self.name=name\n",
    "        \n",
    "    def eat(self):\n",
    "        print(\"eating\")\n",
    "        \n",
    "class dog(animal):\n",
    "    def bark(self):\n",
    "        print(\"barking\")\n",
    "        \n"
   ]
  },
  {
   "cell_type": "code",
   "execution_count": 17,
   "id": "a3a93ae6-76b6-4f5e-baa3-2dc0ac60afd3",
   "metadata": {},
   "outputs": [
    {
     "name": "stdout",
     "output_type": "stream",
     "text": [
      "eating\n"
     ]
    }
   ],
   "source": [
    "dog1=dog(\"moti\")\n",
    "dog1.eat()"
   ]
  },
  {
   "cell_type": "code",
   "execution_count": 18,
   "id": "0e91e9de-c004-4c3c-8b21-6c32248b0107",
   "metadata": {},
   "outputs": [
    {
     "name": "stdout",
     "output_type": "stream",
     "text": [
      "barking\n"
     ]
    }
   ],
   "source": [
    "dog1.bark()"
   ]
  },
  {
   "cell_type": "markdown",
   "id": "397f7cf0-fd3c-4b76-ad16-5f66fb3a6e9e",
   "metadata": {},
   "source": [
    "#### 2) Multiple Inheritance: Multiple inheritance occurs when a class inherits from more than one base class. The derived class inherits attributes and methods from all the base classes."
   ]
  },
  {
   "cell_type": "code",
   "execution_count": 24,
   "id": "301f5d53-bb62-4bcc-bbd9-5eaddcb2ef91",
   "metadata": {},
   "outputs": [],
   "source": [
    "class A:\n",
    "    def method_a(self):\n",
    "        print(\"method A\")\n",
    "\n",
    "        \n",
    "class B:\n",
    "    def method_b(self):\n",
    "        print(\"method B\")\n",
    "\n",
    "        \n",
    "class C(A,B):\n",
    "    def method_c(self):\n",
    "        print(\"method C\")              "
   ]
  },
  {
   "cell_type": "code",
   "execution_count": 25,
   "id": "e8dafbcc-1aaa-4da8-9761-9104cadfe97e",
   "metadata": {},
   "outputs": [
    {
     "name": "stdout",
     "output_type": "stream",
     "text": [
      "method A\n"
     ]
    }
   ],
   "source": [
    "c=C()\n",
    "c.method_a()"
   ]
  },
  {
   "cell_type": "code",
   "execution_count": 27,
   "id": "835ee0ff-1ca9-48d9-9073-bb426ab68ca1",
   "metadata": {},
   "outputs": [
    {
     "name": "stdout",
     "output_type": "stream",
     "text": [
      "method B\n"
     ]
    }
   ],
   "source": [
    "c.method_b()"
   ]
  },
  {
   "cell_type": "code",
   "execution_count": 28,
   "id": "e58be039-3ced-4899-8fef-54d9887f3fb2",
   "metadata": {},
   "outputs": [
    {
     "name": "stdout",
     "output_type": "stream",
     "text": [
      "method C\n"
     ]
    }
   ],
   "source": [
    "c.method_c()"
   ]
  },
  {
   "cell_type": "markdown",
   "id": "d492a2ad-8ba8-4b13-8a64-93b59f323dbe",
   "metadata": {},
   "source": [
    "#### 3) Multilevel Inheritance: Multilevel inheritance occurs when a class is derived from another derived class. It forms a hierarchy of classes"
   ]
  },
  {
   "cell_type": "code",
   "execution_count": 29,
   "id": "dd198589-5b33-49ac-9785-fff76e6d2fe8",
   "metadata": {},
   "outputs": [],
   "source": [
    "class A:\n",
    "    def method_a(self):\n",
    "        print(\"method A\")\n",
    "\n",
    "        \n",
    "class B(A):\n",
    "    def method_b(self):\n",
    "        print(\"method B\")\n",
    "\n",
    "        \n",
    "class C(B):\n",
    "    def method_c(self):\n",
    "        print(\"method C\")              "
   ]
  },
  {
   "cell_type": "code",
   "execution_count": 30,
   "id": "af47ec74-69ef-4863-90ee-a41221ae8986",
   "metadata": {},
   "outputs": [
    {
     "name": "stdout",
     "output_type": "stream",
     "text": [
      "method A\n"
     ]
    }
   ],
   "source": [
    "c=C()\n",
    "c.method_a()"
   ]
  },
  {
   "cell_type": "code",
   "execution_count": 31,
   "id": "df815d66-c2b8-4fc6-81ec-712f293dc737",
   "metadata": {},
   "outputs": [
    {
     "name": "stdout",
     "output_type": "stream",
     "text": [
      "method B\n"
     ]
    }
   ],
   "source": [
    "c.method_b()"
   ]
  },
  {
   "cell_type": "code",
   "execution_count": 32,
   "id": "9cf70cbe-099a-4b67-ae01-cbac8c4cd305",
   "metadata": {},
   "outputs": [
    {
     "name": "stdout",
     "output_type": "stream",
     "text": [
      "method C\n"
     ]
    }
   ],
   "source": [
    "c.method_c()"
   ]
  }
 ],
 "metadata": {
  "kernelspec": {
   "display_name": "Python 3 (ipykernel)",
   "language": "python",
   "name": "python3"
  },
  "language_info": {
   "codemirror_mode": {
    "name": "ipython",
    "version": 3
   },
   "file_extension": ".py",
   "mimetype": "text/x-python",
   "name": "python",
   "nbconvert_exporter": "python",
   "pygments_lexer": "ipython3",
   "version": "3.10.8"
  }
 },
 "nbformat": 4,
 "nbformat_minor": 5
}
