{
 "cells": [
  {
   "cell_type": "markdown",
   "id": "3f3eadf0-5382-4141-8abe-de1b5445fc79",
   "metadata": {},
   "source": [
    "Q1. Which keyword is used to create a function? Create a function to return a list of odd numbers in the\n",
    "range of 1 to 25."
   ]
  },
  {
   "cell_type": "markdown",
   "id": "77a5367e-62bd-4d42-8743-0bac549f9040",
   "metadata": {},
   "source": [
    "#### In Python, the keyword used to create a function is def."
   ]
  },
  {
   "cell_type": "code",
   "execution_count": 4,
   "id": "c2b63970-4967-4822-af3d-1319108c2179",
   "metadata": {},
   "outputs": [],
   "source": [
    "def test():\n",
    "    n=[]\n",
    "    for i in range(0,26):\n",
    "        if i%2!=0:\n",
    "            n.append(i)\n",
    "    return n"
   ]
  },
  {
   "cell_type": "code",
   "execution_count": 5,
   "id": "8ccb0a03-b95c-452e-bb9a-8ea251012a75",
   "metadata": {},
   "outputs": [
    {
     "data": {
      "text/plain": [
       "[1, 3, 5, 7, 9, 11, 13, 15, 17, 19, 21, 23, 25]"
      ]
     },
     "execution_count": 5,
     "metadata": {},
     "output_type": "execute_result"
    }
   ],
   "source": [
    "test()"
   ]
  },
  {
   "cell_type": "markdown",
   "id": "ae299010-c465-4576-8eb7-cf65ef59e770",
   "metadata": {},
   "source": [
    "Q2. Why *args and **kwargs is used in some functions? Create a function each for *args and **kwargs to\n",
    "demonstrate their use."
   ]
  },
  {
   "cell_type": "markdown",
   "id": "570ceeed-78dc-4f3c-962e-a8061ff87593",
   "metadata": {},
   "source": [
    "####  The *args and **kwargs are used in function definitions to allow for a variable number of arguments to be passed to the function."
   ]
  },
  {
   "cell_type": "markdown",
   "id": "5c61479a-3fb9-4bc3-aeff-874699f677f5",
   "metadata": {},
   "source": [
    "#### The *args parameter allows a function to accept a variable number of non-keyworded arguments as a tuple. It is useful when we want to pass an arbitrary number of arguments to a function without explicitly specifying them."
   ]
  },
  {
   "cell_type": "code",
   "execution_count": 6,
   "id": "f444cf83-937b-425d-8ace-eba4d84ab085",
   "metadata": {},
   "outputs": [],
   "source": [
    "## e.g \n",
    "def test(*args):\n",
    "    n=\" \"\n",
    "    for i in args:\n",
    "        n+=i\n",
    "    return n    "
   ]
  },
  {
   "cell_type": "code",
   "execution_count": 7,
   "id": "2bffc0d7-7216-4a02-b188-2822bf0635b7",
   "metadata": {},
   "outputs": [
    {
     "data": {
      "text/plain": [
       "' Hello world!'"
      ]
     },
     "execution_count": 7,
     "metadata": {},
     "output_type": "execute_result"
    }
   ],
   "source": [
    "test('Hello',' ','world','!')"
   ]
  },
  {
   "cell_type": "markdown",
   "id": "a3d93ea2-a584-4e50-91bb-9f10d87d8105",
   "metadata": {},
   "source": [
    "#### The **kwargs parameter allows a function to accept a variable number of keyword arguments as a dictionary. It is useful when we want to pass an arbitrary number of keyword arguments to a function."
   ]
  },
  {
   "cell_type": "code",
   "execution_count": 8,
   "id": "ea0ce37a-dd00-4dd0-bbf4-a8c5a229a15a",
   "metadata": {},
   "outputs": [],
   "source": [
    "# e.g \n",
    "def test1(**kwargs):\n",
    "    for key,value in kwargs.items():\n",
    "        print (f\"{key}:{value}\")\n",
    "        "
   ]
  },
  {
   "cell_type": "code",
   "execution_count": 9,
   "id": "218e50ac-372e-4037-a3c9-44e183f040fa",
   "metadata": {},
   "outputs": [
    {
     "name": "stdout",
     "output_type": "stream",
     "text": [
      "name:praju\n",
      "age:20\n",
      "city:chiplun\n"
     ]
    }
   ],
   "source": [
    "test1(name=\"praju\",age=20,city=\"chiplun\")"
   ]
  },
  {
   "cell_type": "markdown",
   "id": "764416fa-1336-410e-aacd-57045b1966d7",
   "metadata": {},
   "source": [
    "#### Using *args and **kwargs provides flexibility in defining functions that can handle different numbers of arguments or keyword arguments. They are especially useful when we want to create generic or flexible functions.\n"
   ]
  },
  {
   "cell_type": "markdown",
   "id": "8c9d687f-37b5-47a3-9d4f-9b51c494abbb",
   "metadata": {},
   "source": [
    "Q3. What is an iterator in python? Name the method used to initialise the iterator object and the method\n",
    "used for iteration. Use these methods to print the first five elements of the given list [2, 4, 6, 8, 10, 12, 14, 16,\n",
    "18, 20]."
   ]
  },
  {
   "cell_type": "markdown",
   "id": "4b0d297d-216b-42d7-81b9-8fce06fb6db6",
   "metadata": {},
   "source": [
    "####  An iterator is an object that implements the iterator protocol, which consists of two methods: __iter__() and __next__(). The __iter__() method is used to initialise the iterator object, and the __next__() method is used for iteration."
   ]
  },
  {
   "cell_type": "code",
   "execution_count": 10,
   "id": "4463a946-8887-4afb-9a1b-9bd6fdebb983",
   "metadata": {},
   "outputs": [],
   "source": [
    "lst=[2, 4, 6, 8, 10, 12, 14, 16, 18, 20]"
   ]
  },
  {
   "cell_type": "code",
   "execution_count": 11,
   "id": "b283fa67-b298-42fc-98af-3ebf0e631c9a",
   "metadata": {},
   "outputs": [
    {
     "name": "stdout",
     "output_type": "stream",
     "text": [
      "2\n",
      "4\n",
      "6\n",
      "8\n",
      "10\n"
     ]
    }
   ],
   "source": [
    "iterator=iter(lst)\n",
    "for i in range(0,5):\n",
    "    element=next(iterator)\n",
    "    print(element)"
   ]
  },
  {
   "cell_type": "markdown",
   "id": "bcd27344-8a4a-4da7-99e9-844d80c1e73c",
   "metadata": {},
   "source": [
    "Q4. What is a generator function in python? Why yield keyword is used? Give an example of a generator\n",
    "function."
   ]
  },
  {
   "cell_type": "markdown",
   "id": "6f0beae0-b38b-44e2-8106-c65c91e54a4e",
   "metadata": {},
   "source": [
    "####  A generator function is a special type of function that generates a sequence of values using the yield keyword. It allows to create iterators in a more concise and memory-efficient way compared to traditional iterable objects."
   ]
  },
  {
   "cell_type": "markdown",
   "id": "6f95c337-3612-4296-bf94-2f372d8f0c1e",
   "metadata": {},
   "source": [
    "#### The yield keyword is used in a generator function to define the points at which the function should yield its current value and temporarily suspend its execution. When the generator function is called, it returns a generator object that can be iterated over. Each time the generator's next() method is called, the function resumes execution from where it left off and yields the next value."
   ]
  },
  {
   "cell_type": "code",
   "execution_count": 12,
   "id": "c07b918e-a61b-4e24-92b0-138e4c9c849d",
   "metadata": {},
   "outputs": [],
   "source": [
    "## e.g of generator function that generates a sequence of even numbers.\n",
    "def even():\n",
    "    num=0\n",
    "    while True:\n",
    "        yield num\n",
    "        num+=2"
   ]
  },
  {
   "cell_type": "code",
   "execution_count": 14,
   "id": "caccd5ef-39b4-48bd-a0ec-3be111793589",
   "metadata": {},
   "outputs": [
    {
     "name": "stdout",
     "output_type": "stream",
     "text": [
      "0\n",
      "2\n",
      "4\n",
      "6\n",
      "8\n"
     ]
    }
   ],
   "source": [
    "even_no=even()\n",
    "for i in range(0,5):\n",
    "    number=next(even_no)\n",
    "    print(number)\n"
   ]
  },
  {
   "cell_type": "markdown",
   "id": "ddbfd88d-714d-40db-9e95-10f4f4eb46f1",
   "metadata": {},
   "source": [
    "Q5. Create a generator function for prime numbers less than 1000. Use the next() method to print the\n",
    "first 20 prime numbers."
   ]
  },
  {
   "cell_type": "code",
   "execution_count": 1,
   "id": "0d737e52-3fbf-4096-97fc-746b598a8230",
   "metadata": {},
   "outputs": [],
   "source": [
    "def primes(l):\n",
    "    for n in range(2,l):\n",
    "        for i in range(2,n):\n",
    "            if n%i==0:\n",
    "                break \n",
    "        else: \n",
    "            yield n       "
   ]
  },
  {
   "cell_type": "code",
   "execution_count": 16,
   "id": "04e84074-dd3e-4b8b-9d5b-140427ecc9d6",
   "metadata": {},
   "outputs": [
    {
     "name": "stdout",
     "output_type": "stream",
     "text": [
      "2\n",
      "3\n",
      "5\n",
      "7\n",
      "11\n",
      "13\n",
      "17\n",
      "19\n",
      "23\n",
      "29\n",
      "31\n",
      "37\n",
      "41\n",
      "43\n",
      "47\n",
      "53\n",
      "59\n",
      "61\n",
      "67\n",
      "71\n"
     ]
    }
   ],
   "source": [
    "primegen=primes(1000)\n",
    "for i in range(20):\n",
    "    print(next(primegen))"
   ]
  }
 ],
 "metadata": {
  "kernelspec": {
   "display_name": "Python 3 (ipykernel)",
   "language": "python",
   "name": "python3"
  },
  "language_info": {
   "codemirror_mode": {
    "name": "ipython",
    "version": 3
   },
   "file_extension": ".py",
   "mimetype": "text/x-python",
   "name": "python",
   "nbconvert_exporter": "python",
   "pygments_lexer": "ipython3",
   "version": "3.10.8"
  }
 },
 "nbformat": 4,
 "nbformat_minor": 5
}
